{
 "cells": [
  {
   "cell_type": "code",
   "execution_count": null,
   "metadata": {},
   "outputs": [],
   "source": [
    "from datetime import datetime\n",
    "import os\n",
    "\n",
    "import cartopy.crs as ccrs\n",
    "import cartopy.feature as cfeature\n",
    "import matplotlib.pyplot as plt\n",
    "import xarray as xr"
   ]
  },
  {
   "cell_type": "markdown",
   "metadata": {},
   "source": [
    "In addition we want to pull in a couple of local functions.\n",
    "View the README to make sure you have it installed correctly."
   ]
  },
  {
   "cell_type": "code",
   "execution_count": null,
   "metadata": {},
   "outputs": [],
   "source": [
    "from codebase import BoundingBox, TimeRange\n",
    "from codebase.namingconventions import get_nc_fname"
   ]
  },
  {
   "cell_type": "markdown",
   "metadata": {},
   "source": [
    "We can define the starting and end times of our analysis"
   ]
  },
  {
   "cell_type": "code",
   "execution_count": null,
   "metadata": {},
   "outputs": [],
   "source": [
    "trange = TimeRange(datetime(2017, 8, 25, 0), datetime(2017, 8, 28, 23))"
   ]
  },
  {
   "cell_type": "markdown",
   "metadata": {},
   "source": [
    "We need to specify where we have the data stored.\n",
    "In my case, it's in the following location:"
   ]
  },
  {
   "cell_type": "code",
   "execution_count": null,
   "metadata": {},
   "outputs": [],
   "source": [
    "data_dir = \"/Volumes/research/jd82/nexrad-xarray/data/external/\""
   ]
  },
  {
   "cell_type": "markdown",
   "metadata": {},
   "source": [
    "Now we can read in all the files using the [`xr.open_mfdataset`](https://docs.xarray.dev/en/stable/generated/xarray.open_mfdataset.html) (multi-file dataset) function."
   ]
  },
  {
   "cell_type": "code",
   "execution_count": null,
   "metadata": {},
   "outputs": [],
   "source": [
    "ds = (\n",
    "    xr.open_mfdataset(\n",
    "        [get_nc_fname(dt, dirname=data_dir) for dt in trange.dts],\n",
    "        combine=\"nested\",\n",
    "        concat_dim=\"time\",\n",
    "        chunks={\"time\": 10},\n",
    "    )\n",
    "    .sortby(\"time\")\n",
    "    .rename({\"param9.6.209\": \"prcp_rate\"})[\"prcp_rate\"]\n",
    ")"
   ]
  },
  {
   "cell_type": "markdown",
   "metadata": {},
   "source": [
    "This isn't working now because the dataset is still being loaded in!"
   ]
  },
  {
   "cell_type": "markdown",
   "metadata": {},
   "source": [
    "Now we can convert to daily data for plotting"
   ]
  },
  {
   "cell_type": "code",
   "execution_count": null,
   "metadata": {},
   "outputs": [],
   "source": [
    "daily = (\n",
    "    ds.resample(time=\"1D\")  # resample to daily (1D = 1 day) -- like a groupby\n",
    "    .sum(skipna=False)  # take the daily sum\n",
    "    .rename({\"time\": \"date\"})\n",
    ")"
   ]
  },
  {
   "cell_type": "markdown",
   "metadata": {},
   "source": [
    "And build the plot.\n",
    "See [xarrray docs](https://docs.xarray.dev/en/stable/user-guide/plotting.html) for details."
   ]
  },
  {
   "cell_type": "code",
   "execution_count": null,
   "metadata": {},
   "outputs": [],
   "source": [
    "p = daily.plot(\n",
    "    transform=ccrs.PlateCarree(),\n",
    "    col=\"date\",\n",
    "    col_wrap=2,\n",
    "    subplot_kws={\"projection\": ccrs.PlateCarree()},\n",
    "    figsize=(12, 6),\n",
    ")\n",
    "\n",
    "for ax in p.axes.flat:\n",
    "    ax.add_feature(cfeature.STATES)\n",
    "\n",
    "plt.show()"
   ]
  }
 ],
 "metadata": {
  "kernelspec": {
   "display_name": "Python 3.7.13 ('base')",
   "language": "python",
   "name": "python3"
  },
  "language_info": {
   "codemirror_mode": {
    "name": "ipython",
    "version": 3
   },
   "file_extension": ".py",
   "mimetype": "text/x-python",
   "name": "python",
   "nbconvert_exporter": "python",
   "pygments_lexer": "ipython3",
   "version": "3.7.13"
  },
  "orig_nbformat": 4,
  "vscode": {
   "interpreter": {
    "hash": "d3bc926efa5aa0b0a8785e601e67f450304a000637f8d22b30083dc9de512fdb"
   }
  }
 },
 "nbformat": 4,
 "nbformat_minor": 2
}
